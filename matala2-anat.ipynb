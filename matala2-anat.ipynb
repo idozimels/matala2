{
  "nbformat": 4,
  "nbformat_minor": 0,
  "metadata": {
    "colab": {
      "provenance": []
    },
    "kernelspec": {
      "name": "python3",
      "display_name": "Python 3"
    },
    "language_info": {
      "name": "python"
    }
  },
  "cells": [
    {
      "cell_type": "code",
      "execution_count": null,
      "metadata": {
        "id": "kcIWlJraa1AM"
      },
      "outputs": [],
      "source": [
        "import numpy as np\n",
        "import pandas as pd\n",
        "import datetime\n",
        "import re\n",
        "import matplotlib.pyplot as plt\n",
        "from google.colab import drive\n",
        "drive.mount('/content/drive')"
      ]
    },
    {
      "cell_type": "code",
      "source": [
        "df = pd.read_csv('/content/drive/MyDrive/data/matala2_cosmetics_2019-Nov.csv')"
      ],
      "metadata": {
        "id": "5YnQT_lzcc5J"
      },
      "execution_count": null,
      "outputs": []
    },
    {
      "cell_type": "markdown",
      "source": [
        "1."
      ],
      "metadata": {
        "id": "YeAnlUJ2wW0t"
      }
    },
    {
      "cell_type": "code",
      "source": [
        "def duration_of_event(df):\n",
        "  df['event_time'] = df['event_time'].apply(lambda x: datetime.datetime.strptime(x,'%Y-%m-%d %H:%M:%S UTC'))\n",
        "  df = df.sort_values(['user_id', 'user_session', 'event_time'])\n",
        "  df['next_event_time'] = df.groupby(['user_id', 'user_session'])['event_time'].shift(-1)\n",
        "  df['duration_to_next_event'] = (df['next_event_time'] - df['event_time']).dt.total_seconds()\n",
        "  df['duration_to_next_event'] = df['duration_to_next_event'].fillna(0)\n",
        "  df = df.drop('next_event_time', axis=1)\n",
        "  return df\n",
        "\n",
        "# check\n",
        "df = duration_of_event(df)\n",
        "df[df['user_session']=='670cb8b4-bef1-4ec7-bfe8-7c8317967c74']"
      ],
      "metadata": {
        "id": "JpNdqoWcc1Gk"
      },
      "execution_count": null,
      "outputs": []
    },
    {
      "cell_type": "markdown",
      "source": [
        "2."
      ],
      "metadata": {
        "id": "fk0VWoPhwU7x"
      }
    },
    {
      "cell_type": "code",
      "source": [
        "def num_of_event(df):\n",
        "  df = df.sort_values(['user_id', 'event_time'])\n",
        "  df['time_diff'] = df.groupby('user_id')['event_time'].diff()\n",
        "  df['time_diff'] = df['time_diff'].apply(lambda x: x.days)\n",
        "  df['new_panel'] = (df['time_diff'] > 5) | (df['time_diff'].isnull())\n",
        "  df['funnel_number'] = df.groupby('user_id')['new_panel'].cumsum()\n",
        "  df = df.drop(['time_diff', 'new_panel'], axis=1)\n",
        "  return df\n",
        "\n",
        "df = num_of_event(df)\n",
        "df"
      ],
      "metadata": {
        "id": "5vPOiyBEtXaL"
      },
      "execution_count": null,
      "outputs": []
    },
    {
      "cell_type": "markdown",
      "source": [
        "3."
      ],
      "metadata": {
        "id": "DwLgVx8uwQiA"
      }
    },
    {
      "cell_type": "code",
      "source": [
        "def index_in_funnel(df):\n",
        "  df['index_in_funnel'] = df.groupby(['user_id', 'funnel_number'])['user_session'].transform(lambda x: pd.factorize(x)[0]+1)\n",
        "  return df\n",
        "\n",
        "df = index_in_funnel(df)\n",
        "df"
      ],
      "metadata": {
        "id": "HQpNI13e0Bq5"
      },
      "execution_count": null,
      "outputs": []
    },
    {
      "cell_type": "markdown",
      "source": [
        "4."
      ],
      "metadata": {
        "id": "Bm8esZ2bwOWz"
      }
    },
    {
      "cell_type": "code",
      "source": [
        "def re_price(price):\n",
        "    if isinstance(price, str):\n",
        "        match = re.search(r'\\d+\\.?\\d*', price)\n",
        "        if match:\n",
        "            return float(match.group())\n",
        "    elif isinstance(price, float):\n",
        "        return price\n",
        "    return None\n",
        "\n",
        "df['price'] = df['price'].apply(re_price)"
      ],
      "metadata": {
        "id": "x_r2g0420B0R"
      },
      "execution_count": 8,
      "outputs": []
    },
    {
      "cell_type": "markdown",
      "source": [
        "5."
      ],
      "metadata": {
        "id": "Jo_VUAEHwLIF"
      }
    },
    {
      "cell_type": "code",
      "source": [
        "event_counts = df['event_type'].value_counts()\n",
        "\n",
        "labels = event_counts.index\n",
        "sizes = event_counts.values\n",
        "colors = ['yellowgreen', 'gold', 'lightskyblue', 'lightcoral']\n",
        "\n",
        "plt.pie(sizes, labels=labels, colors=colors, autopct='%1.1f%%', startangle=140)\n",
        "plt.title('Event Type Distribution')\n",
        "\n",
        "plt.axis('equal')\n",
        "plt.show()"
      ],
      "metadata": {
        "colab": {
          "base_uri": "https://localhost:8080/",
          "height": 428
        },
        "id": "jSOoT4OR0B3C",
        "outputId": "047a3526-43db-47dc-b821-9a4658e7de60"
      },
      "execution_count": 9,
      "outputs": [
        {
          "output_type": "display_data",
          "data": {
            "text/plain": [
              "<Figure size 640x480 with 1 Axes>"
            ],
            "image/png": "[encoded data removed]"
          },
          "metadata": {}
        }
      ]
    },
    {
      "cell_type": "markdown",
      "source": [
        "6."
      ],
      "metadata": {
        "id": "tjl7zo_mwBoq"
      }
    },
    {
      "cell_type": "code",
      "source": [
        "def session_sum_up(df):\n",
        "    grouped = df.groupby(['user_session'])\n",
        "\n",
        "    aggregations = {\n",
        "        'duration_to_next_event': 'sum',\n",
        "        'event_type': lambda x: list(x),\n",
        "        'user_id': 'first',\n",
        "        'funnel_number': 'first',\n",
        "        'index_in_funnel': 'first',\n",
        "        'product_id': lambda x: list(x),\n",
        "        'category_code': lambda x: len(x),\n",
        "        'product_id': lambda x: list(x)\n",
        "    }\n",
        "\n",
        "    session_summary = grouped.agg(aggregations).reset_index()\n",
        "    session_summary = session_summary.rename(columns={'category_code': 'num_events'})\n",
        "    session_summary = session_summary.rename(columns={'duration_to_next_event': 'session_duration'})\n",
        "\n",
        "    session_summary['list_of_viewed'] = session_summary.apply(lambda x: [i for i, j in zip(x['product_id'], x['event_type']) if j == 'view'], axis=1)\n",
        "    session_summary['list_of_added_to_cart'] = session_summary.apply(lambda x: [i for i, j in zip(x['product_id'], x['event_type']) if j == 'cart'], axis=1)\n",
        "    session_summary['list_of_purchased'] = session_summary.apply(lambda x: [i for i, j in zip(x['product_id'], x['event_type']) if j == 'purchase'], axis=1)\n",
        "\n",
        "    session_summary = session_summary.drop(['product_id', 'event_type'], axis=1)\n",
        "    \n",
        "    return session_summary\n",
        "  \n",
        "session_data  = session_sum_up(df)\n",
        "session_data .head()\n",
        "     \n"
      ],
      "metadata": {
        "id": "zLWaQgsxry2L"
      },
      "execution_count": null,
      "outputs": []
    }
  ]
}